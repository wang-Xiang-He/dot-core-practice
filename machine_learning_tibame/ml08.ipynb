{
 "cells": [
  {
   "cell_type": "markdown",
   "metadata": {},
   "source": [
    "# Adaboost"
   ]
  },
  {
   "cell_type": "code",
   "execution_count": 7,
   "metadata": {},
   "outputs": [],
   "source": [
    "from sklearn import datasets\n",
    "import pandas as pd\n",
    "import numpy as np\n",
    "import matplotlib.pyplot as plt\n",
    "from sklearn.ensemble import AdaBoostClassifier\n",
    "from sklearn.metrics import accuracy_score\n",
    "from sklearn.model_selection import train_test_split"
   ]
  },
  {
   "cell_type": "code",
   "execution_count": 8,
   "metadata": {},
   "outputs": [],
   "source": [
    "cancer = datasets.load_breast_cancer()\n",
    "x = cancer.data \n",
    "y = cancer.target\n",
    "x_train, x_test, y_train, y_test = train_test_split(x, y, test_size=0.2)"
   ]
  },
  {
   "cell_type": "code",
   "execution_count": 9,
   "metadata": {},
   "outputs": [
    {
     "name": "stdout",
     "output_type": "stream",
     "text": [
      "0.9912280701754386\n"
     ]
    }
   ],
   "source": [
    "clf = AdaBoostClassifier(n_estimators=100, random_state=0)\n",
    "clf.fit(x_train, y_train)\n",
    "y_pred = clf.predict(x_test)\n",
    "print(accuracy_score(y_test, y_pred))"
   ]
  },
  {
   "cell_type": "markdown",
   "metadata": {},
   "source": [
    "# blending"
   ]
  },
  {
   "cell_type": "code",
   "execution_count": 10,
   "metadata": {},
   "outputs": [
    {
     "data": {
      "text/html": [
       "<div>\n",
       "<style scoped>\n",
       "    .dataframe tbody tr th:only-of-type {\n",
       "        vertical-align: middle;\n",
       "    }\n",
       "\n",
       "    .dataframe tbody tr th {\n",
       "        vertical-align: top;\n",
       "    }\n",
       "\n",
       "    .dataframe thead th {\n",
       "        text-align: right;\n",
       "    }\n",
       "</style>\n",
       "<table border=\"1\" class=\"dataframe\">\n",
       "  <thead>\n",
       "    <tr style=\"text-align: right;\">\n",
       "      <th></th>\n",
       "      <th>土地移轉總面積(平方公尺)</th>\n",
       "      <th>建物現況格局-廳</th>\n",
       "      <th>建物現況格局-房</th>\n",
       "      <th>建物現況格局-衛</th>\n",
       "      <th>建物移轉總面積(平方公尺)</th>\n",
       "      <th>總價(元)</th>\n",
       "      <th>車位移轉總面積(平方公尺)</th>\n",
       "      <th>車位總價(元)</th>\n",
       "      <th>num_of_bus_stations_in_100m</th>\n",
       "      <th>income_avg</th>\n",
       "      <th>...</th>\n",
       "      <th>土地區段位置/建物區段門牌</th>\n",
       "      <th>建物型態</th>\n",
       "      <th>建物現況格局-隔間</th>\n",
       "      <th>有無管理組織</th>\n",
       "      <th>車位類別</th>\n",
       "      <th>都市土地使用分區</th>\n",
       "      <th>鄉鎮市區</th>\n",
       "      <th>非都市土地使用分區</th>\n",
       "      <th>location_type</th>\n",
       "      <th>nearest_tarin_station</th>\n",
       "    </tr>\n",
       "  </thead>\n",
       "  <tbody>\n",
       "    <tr>\n",
       "      <th>0</th>\n",
       "      <td>2.364366</td>\n",
       "      <td>-1.567971</td>\n",
       "      <td>-1.419390</td>\n",
       "      <td>-1.495833</td>\n",
       "      <td>-1.353538</td>\n",
       "      <td>-0.910140</td>\n",
       "      <td>-0.539096</td>\n",
       "      <td>-0.389257</td>\n",
       "      <td>-1.429543</td>\n",
       "      <td>0.102731</td>\n",
       "      <td>...</td>\n",
       "      <td>933</td>\n",
       "      <td>2</td>\n",
       "      <td>0</td>\n",
       "      <td>1</td>\n",
       "      <td>1</td>\n",
       "      <td>1</td>\n",
       "      <td>6</td>\n",
       "      <td>1</td>\n",
       "      <td>1</td>\n",
       "      <td>40</td>\n",
       "    </tr>\n",
       "    <tr>\n",
       "      <th>1</th>\n",
       "      <td>0.631359</td>\n",
       "      <td>0.810838</td>\n",
       "      <td>-0.732958</td>\n",
       "      <td>-0.343334</td>\n",
       "      <td>-0.343538</td>\n",
       "      <td>-0.661491</td>\n",
       "      <td>-0.539096</td>\n",
       "      <td>-0.389257</td>\n",
       "      <td>1.772410</td>\n",
       "      <td>-0.432691</td>\n",
       "      <td>...</td>\n",
       "      <td>12</td>\n",
       "      <td>1</td>\n",
       "      <td>0</td>\n",
       "      <td>1</td>\n",
       "      <td>1</td>\n",
       "      <td>0</td>\n",
       "      <td>1</td>\n",
       "      <td>1</td>\n",
       "      <td>3</td>\n",
       "      <td>39</td>\n",
       "    </tr>\n",
       "    <tr>\n",
       "      <th>2</th>\n",
       "      <td>2.364366</td>\n",
       "      <td>0.810838</td>\n",
       "      <td>1.326338</td>\n",
       "      <td>2.537915</td>\n",
       "      <td>2.297815</td>\n",
       "      <td>2.232775</td>\n",
       "      <td>2.427249</td>\n",
       "      <td>-0.389257</td>\n",
       "      <td>1.132019</td>\n",
       "      <td>0.450769</td>\n",
       "      <td>...</td>\n",
       "      <td>1090</td>\n",
       "      <td>0</td>\n",
       "      <td>0</td>\n",
       "      <td>0</td>\n",
       "      <td>4</td>\n",
       "      <td>0</td>\n",
       "      <td>5</td>\n",
       "      <td>1</td>\n",
       "      <td>2</td>\n",
       "      <td>23</td>\n",
       "    </tr>\n",
       "    <tr>\n",
       "      <th>3</th>\n",
       "      <td>0.297232</td>\n",
       "      <td>0.810838</td>\n",
       "      <td>0.639906</td>\n",
       "      <td>0.809166</td>\n",
       "      <td>-0.095638</td>\n",
       "      <td>-0.443924</td>\n",
       "      <td>-0.539096</td>\n",
       "      <td>-0.389257</td>\n",
       "      <td>-0.148762</td>\n",
       "      <td>-0.435469</td>\n",
       "      <td>...</td>\n",
       "      <td>717</td>\n",
       "      <td>1</td>\n",
       "      <td>0</td>\n",
       "      <td>1</td>\n",
       "      <td>1</td>\n",
       "      <td>0</td>\n",
       "      <td>9</td>\n",
       "      <td>1</td>\n",
       "      <td>3</td>\n",
       "      <td>52</td>\n",
       "    </tr>\n",
       "    <tr>\n",
       "      <th>4</th>\n",
       "      <td>-0.977402</td>\n",
       "      <td>0.810838</td>\n",
       "      <td>-0.046526</td>\n",
       "      <td>-0.343334</td>\n",
       "      <td>-0.678820</td>\n",
       "      <td>-0.319600</td>\n",
       "      <td>-0.539096</td>\n",
       "      <td>-0.389257</td>\n",
       "      <td>-1.429543</td>\n",
       "      <td>-0.729956</td>\n",
       "      <td>...</td>\n",
       "      <td>55</td>\n",
       "      <td>0</td>\n",
       "      <td>0</td>\n",
       "      <td>0</td>\n",
       "      <td>1</td>\n",
       "      <td>2</td>\n",
       "      <td>0</td>\n",
       "      <td>1</td>\n",
       "      <td>3</td>\n",
       "      <td>82</td>\n",
       "    </tr>\n",
       "  </tbody>\n",
       "</table>\n",
       "<p>5 rows × 35 columns</p>\n",
       "</div>"
      ],
      "text/plain": [
       "   土地移轉總面積(平方公尺)  建物現況格局-廳  建物現況格局-房  建物現況格局-衛  建物移轉總面積(平方公尺)     總價(元)  \\\n",
       "0       2.364366 -1.567971 -1.419390 -1.495833      -1.353538 -0.910140   \n",
       "1       0.631359  0.810838 -0.732958 -0.343334      -0.343538 -0.661491   \n",
       "2       2.364366  0.810838  1.326338  2.537915       2.297815  2.232775   \n",
       "3       0.297232  0.810838  0.639906  0.809166      -0.095638 -0.443924   \n",
       "4      -0.977402  0.810838 -0.046526 -0.343334      -0.678820 -0.319600   \n",
       "\n",
       "   車位移轉總面積(平方公尺)   車位總價(元)  num_of_bus_stations_in_100m  income_avg  ...  \\\n",
       "0      -0.539096 -0.389257                    -1.429543    0.102731  ...   \n",
       "1      -0.539096 -0.389257                     1.772410   -0.432691  ...   \n",
       "2       2.427249 -0.389257                     1.132019    0.450769  ...   \n",
       "3      -0.539096 -0.389257                    -0.148762   -0.435469  ...   \n",
       "4      -0.539096 -0.389257                    -1.429543   -0.729956  ...   \n",
       "\n",
       "   土地區段位置/建物區段門牌  建物型態  建物現況格局-隔間  有無管理組織  車位類別  都市土地使用分區  鄉鎮市區  非都市土地使用分區  \\\n",
       "0            933     2          0       1     1         1     6          1   \n",
       "1             12     1          0       1     1         0     1          1   \n",
       "2           1090     0          0       0     4         0     5          1   \n",
       "3            717     1          0       1     1         0     9          1   \n",
       "4             55     0          0       0     1         2     0          1   \n",
       "\n",
       "   location_type  nearest_tarin_station  \n",
       "0              1                     40  \n",
       "1              3                     39  \n",
       "2              2                     23  \n",
       "3              3                     52  \n",
       "4              3                     82  \n",
       "\n",
       "[5 rows x 35 columns]"
      ]
     },
     "metadata": {},
     "output_type": "display_data"
    }
   ],
   "source": [
    "import pandas as pd\n",
    "import numpy as np\n",
    "from sklearn.model_selection import train_test_split\n",
    "from sklearn.metrics import mean_squared_error\n",
    "\n",
    "df_train = pd.read_csv('data/output/house_train_clean.csv')\n",
    "\n",
    "df_train_y = df_train['單價(元/平方公尺)']\n",
    "df_train = df_train.drop(['單價(元/平方公尺)'], axis=1)\n",
    "display(df_train.head())\n",
    "\n",
    "x_train, x_test, y_train, y_test = train_test_split(df_train, df_train_y, test_size=0.2, random_state=1)"
   ]
  },
  {
   "cell_type": "code",
   "execution_count": 11,
   "metadata": {},
   "outputs": [],
   "source": [
    "# 使用三種模型 : 線性迴歸 / 梯度提升機 / 隨機森林\n",
    "from sklearn.linear_model import LinearRegression\n",
    "from sklearn.ensemble import GradientBoostingRegressor, RandomForestRegressor\n",
    "lr = LinearRegression()\n",
    "gdbt = GradientBoostingRegressor(tol=0.1, subsample=0.37, n_estimators=200, max_features=20, \n",
    "                                 max_depth=6, learning_rate=0.03)\n",
    "rf = RandomForestRegressor(n_estimators=300, min_samples_split=9, min_samples_leaf=10, \n",
    "                           max_features='sqrt', max_depth=8, bootstrap=False)"
   ]
  },
  {
   "cell_type": "code",
   "execution_count": 18,
   "metadata": {},
   "outputs": [
    {
     "name": "stdout",
     "output_type": "stream",
     "text": [
      "[182791.01032123  14222.87217784 120810.20320323 ...  91932.25542118\n",
      " 203975.87374086 164058.65312487]\n",
      "88045.6769070151\n"
     ]
    }
   ],
   "source": [
    "# 線性迴歸預測\n",
    "model_lr = lr.fit(x_train, y_train)\n",
    "lr_pred = model_lr.predict(x_test)\n",
    "print(lr_pred)\n",
    "mse_lr = mean_squared_error(lr_pred,y_test, squared=False)\n",
    "print(mse_lr)"
   ]
  },
  {
   "cell_type": "code",
   "execution_count": 13,
   "metadata": {},
   "outputs": [
    {
     "name": "stdout",
     "output_type": "stream",
     "text": [
      "86606.3117036469\n"
     ]
    }
   ],
   "source": [
    "# 隨機森林預測\n",
    "model_rf = rf.fit(x_train, y_train)\n",
    "rf_pred = model_rf.predict(x_test)\n",
    "mse_rf = mean_squared_error(rf_pred,y_test, squared=False)\n",
    "print(mse_rf)"
   ]
  },
  {
   "cell_type": "code",
   "execution_count": 14,
   "metadata": {},
   "outputs": [
    {
     "name": "stdout",
     "output_type": "stream",
     "text": [
      "92482.81759417226\n"
     ]
    }
   ],
   "source": [
    "# 梯度提升機預測\n",
    "model_gdbt = gdbt.fit(x_train, y_train)\n",
    "gdbt_pred = gdbt.predict(x_test)\n",
    "mse_gdbt = mean_squared_error(gdbt_pred,y_test, squared=False)\n",
    "print(mse_gdbt)"
   ]
  },
  {
   "cell_type": "code",
   "execution_count": 15,
   "metadata": {},
   "outputs": [
    {
     "data": {
      "text/plain": [
       "73304.58299696611"
      ]
     },
     "execution_count": 15,
     "metadata": {},
     "output_type": "execute_result"
    }
   ],
   "source": [
    "# 混合泛化預測\n",
    "mse_sum = 1/mse_gdbt + 1/mse_rf + 1/mse_lr\n",
    "blending_pred = lr_pred*((1/mse_lr)/mse_sum) + gdbt_pred*((1/mse_gdbt)/mse_sum) + rf_pred*((1/mse_rf)/mse_sum)\n",
    "mean_squared_error(blending_pred,y_test, squared=False)"
   ]
  },
  {
   "cell_type": "markdown",
   "metadata": {},
   "source": [
    "#### 注意，Blending 的前提是 : 個別單模效果都很好(有調參)並且模型差異⼤，單模要好尤其重要，如果單模效果差異太⼤，Blending 的效果提升就相當有限"
   ]
  },
  {
   "cell_type": "code",
   "execution_count": 16,
   "metadata": {},
   "outputs": [
    {
     "name": "stdout",
     "output_type": "stream",
     "text": [
      "340878.6545812134\n"
     ]
    }
   ],
   "source": [
    "from sklearn.ensemble import AdaBoostRegressor\n",
    "adb = AdaBoostRegressor(n_estimators=50,random_state=0)\n",
    "\n",
    "model_adb = adb.fit(x_train, y_train)\n",
    "adb_pred = adb.predict(x_test)\n",
    "mse_adb = mean_squared_error(adb_pred,y_test, squared=False)\n",
    "print(mse_adb)"
   ]
  },
  {
   "cell_type": "code",
   "execution_count": 17,
   "metadata": {},
   "outputs": [
    {
     "data": {
      "text/plain": [
       "82110.93196756986"
      ]
     },
     "execution_count": 17,
     "metadata": {},
     "output_type": "execute_result"
    }
   ],
   "source": [
    "#加入 adaboost 後效果變差\n",
    "mse_sum = 1/mse_gdbt + 1/mse_rf + 1/mse_lr + 1/mse_adb\n",
    "blending_pred = lr_pred*((1/mse_lr)/mse_sum) + gdbt_pred*((1/mse_gdbt)/mse_sum) + rf_pred*((1/mse_rf)/mse_sum) + adb_pred*((1/mse_adb)/mse_sum)\n",
    "mean_squared_error(blending_pred,y_test, squared=False)"
   ]
  }
 ],
 "metadata": {
  "kernelspec": {
   "display_name": "Python 3",
   "language": "python",
   "name": "python3"
  },
  "language_info": {
   "codemirror_mode": {
    "name": "ipython",
    "version": 3
   },
   "file_extension": ".py",
   "mimetype": "text/x-python",
   "name": "python",
   "nbconvert_exporter": "python",
   "pygments_lexer": "ipython3",
   "version": "3.6.4"
  }
 },
 "nbformat": 4,
 "nbformat_minor": 4
}
