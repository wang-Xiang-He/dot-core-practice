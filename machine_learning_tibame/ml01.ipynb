{
 "cells": [
  {
   "cell_type": "markdown",
   "metadata": {},
   "source": [
    "# Split data"
   ]
  },
  {
   "cell_type": "code",
   "execution_count": 1,
   "metadata": {},
   "outputs": [
    {
     "ename": "ModuleNotFoundError",
     "evalue": "No module named 'sklearn'",
     "output_type": "error",
     "traceback": [
      "\u001b[1;31m---------------------------------------------------------------------------\u001b[0m",
      "\u001b[1;31mModuleNotFoundError\u001b[0m                       Traceback (most recent call last)",
      "\u001b[1;32mc:\\Users\\a9100\\OneDrive\\桌面\\課程資料\\machine_learning_tibame\\ml01.ipynb Cell 2'\u001b[0m in \u001b[0;36m<cell line: 2>\u001b[1;34m()\u001b[0m\n\u001b[0;32m      <a href='vscode-notebook-cell:/c%3A/Users/a9100/OneDrive/%E6%A1%8C%E9%9D%A2/%E8%AA%B2%E7%A8%8B%E8%B3%87%E6%96%99/machine_learning_tibame/ml01.ipynb#ch0000001?line=0'>1</a>\u001b[0m \u001b[39mimport\u001b[39;00m \u001b[39mnumpy\u001b[39;00m \u001b[39mas\u001b[39;00m \u001b[39mnp\u001b[39;00m\n\u001b[1;32m----> <a href='vscode-notebook-cell:/c%3A/Users/a9100/OneDrive/%E6%A1%8C%E9%9D%A2/%E8%AA%B2%E7%A8%8B%E8%B3%87%E6%96%99/machine_learning_tibame/ml01.ipynb#ch0000001?line=1'>2</a>\u001b[0m \u001b[39mfrom\u001b[39;00m \u001b[39msklearn\u001b[39;00m\u001b[39m.\u001b[39;00m\u001b[39mmodel_selection\u001b[39;00m \u001b[39mimport\u001b[39;00m train_test_split\n\u001b[0;32m      <a href='vscode-notebook-cell:/c%3A/Users/a9100/OneDrive/%E6%A1%8C%E9%9D%A2/%E8%AA%B2%E7%A8%8B%E8%B3%87%E6%96%99/machine_learning_tibame/ml01.ipynb#ch0000001?line=3'>4</a>\u001b[0m x, y \u001b[39m=\u001b[39m np\u001b[39m.\u001b[39marange(\u001b[39m20\u001b[39m)\u001b[39m.\u001b[39mreshape((\u001b[39m10\u001b[39m, \u001b[39m2\u001b[39m)), np\u001b[39m.\u001b[39marange(\u001b[39m10\u001b[39m)\n\u001b[0;32m      <a href='vscode-notebook-cell:/c%3A/Users/a9100/OneDrive/%E6%A1%8C%E9%9D%A2/%E8%AA%B2%E7%A8%8B%E8%B3%87%E6%96%99/machine_learning_tibame/ml01.ipynb#ch0000001?line=5'>6</a>\u001b[0m \u001b[39mprint\u001b[39m(\u001b[39m'\u001b[39m\u001b[39mbefore splitting......\u001b[39m\u001b[39m'\u001b[39m)\n",
      "\u001b[1;31mModuleNotFoundError\u001b[0m: No module named 'sklearn'"
     ]
    }
   ],
   "source": [
    "import numpy as np\n",
    "from sklearn.model_selection import train_test_split\n",
    "\n",
    "x, y = np.arange(20).reshape((10, 2)), np.arange(10)\n",
    "\n",
    "print('before splitting......')\n",
    "\n",
    "print(f\"x: {x}\\n\")\n",
    "print(f\"y: {y}\\n\")\n",
    "\n",
    "print(\"shape of x: {x.shape}\")\n",
    "print(\"shape of y: {y.shape}\\n\")\n",
    "\n",
    "x_train, x_test, y_train, y_test = train_test_split(x, y, test_size=0.3)\n",
    "print('after splitting......')\n",
    "\n",
    "print(f\"x_train: {x_train}\\n\")\n",
    "print(f\"x_test: {x_test}\\n\")\n",
    "\n",
    "print(f\"y_train: {y_train}\\n\")\n",
    "print(f\"y_test: {y_test}\\n\")"
   ]
  },
  {
   "cell_type": "markdown",
   "metadata": {},
   "source": [
    "# Preprocessing Data"
   ]
  },
  {
   "cell_type": "code",
   "execution_count": 5,
   "metadata": {},
   "outputs": [
    {
     "name": "stdout",
     "output_type": "stream",
     "text": [
      "after standardiztion......\n",
      "x_train: [[-0.84292723 -1.22474487  1.33630621]\n",
      " [ 1.40487872  0.         -0.26726124]\n",
      " [-0.56195149  1.22474487 -1.06904497]]\n",
      "\n",
      "apply same mean and std to new data(test data)\n",
      "x_test:\n",
      " [[-1.12671273  1.22474487 -0.26726124]]\n"
     ]
    }
   ],
   "source": [
    "from sklearn import preprocessing\n",
    "import numpy as np\n",
    "\n",
    "x_train = np.array([[ 100., -1.,  2.],\n",
    "                    [ 900.,  0.,  0.],\n",
    "                    [ 200.,  1., -1.]])\n",
    "\n",
    "scaler = preprocessing.StandardScaler().fit(x_train)\n",
    "x_train = scaler.transform(x_train)\n",
    "\n",
    "print(\"after standardiztion......\")\n",
    "print(f'x_train: {x_train}')\n",
    "\n",
    "\n",
    "print(\"\\napply same mean and std to new data(test data)\")\n",
    "x_test = np.array([[-1., 1., 0.]])\n",
    "x_test = scaler.transform(x_test)\n",
    "print(f'x_test:\\n {x_test}')"
   ]
  },
  {
   "cell_type": "code",
   "execution_count": 6,
   "metadata": {},
   "outputs": [
    {
     "name": "stdout",
     "output_type": "stream",
     "text": [
      "after standardiztion......\n",
      "x_train:\n",
      " [[-0.84292723 -1.22474487  1.33630621]\n",
      " [ 1.40487872  0.         -0.26726124]\n",
      " [-0.56195149  1.22474487 -1.06904497]]\n"
     ]
    }
   ],
   "source": [
    "x_train = np.array([[ 100., -1.,  2.],\n",
    "                    [ 900.,  0.,  0.],\n",
    "                    [ 200.,  1., -1.]])\n",
    "\n",
    "x_train = preprocessing.StandardScaler().fit_transform(x_train)\n",
    "\n",
    "print(\"after standardiztion......\")\n",
    "print(f'x_train:\\n {x_train}')"
   ]
  }
 ],
 "metadata": {
  "interpreter": {
   "hash": "c34482aa51ba7b3d627e7183dc8f646d04fe7d0c7f216766273c6243024c1ff4"
  },
  "kernelspec": {
   "display_name": "Python 3.10.4 ('.venc': venv)",
   "language": "python",
   "name": "python3"
  },
  "language_info": {
   "codemirror_mode": {
    "name": "ipython",
    "version": 3
   },
   "file_extension": ".py",
   "mimetype": "text/x-python",
   "name": "python",
   "nbconvert_exporter": "python",
   "pygments_lexer": "ipython3",
   "version": "3.10.4"
  }
 },
 "nbformat": 4,
 "nbformat_minor": 4
}
