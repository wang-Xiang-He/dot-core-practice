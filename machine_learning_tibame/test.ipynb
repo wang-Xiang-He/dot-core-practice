{
 "cells": [
  {
   "cell_type": "code",
   "execution_count": 1,
   "metadata": {},
   "outputs": [
    {
     "data": {
      "text/plain": [
       "[1.0, 2]"
      ]
     },
     "metadata": {},
     "output_type": "display_data"
    }
   ],
   "source": [
    "a=[1.,2]\n",
    "display(a)\n"
   ]
  }
 ],
 "metadata": {
  "interpreter": {
   "hash": "e49c50f772c211c97ec49cd40b9c43c46fdaa9534f56eda680a5df32c8c9a1da"
  },
  "kernelspec": {
   "display_name": "Python 3.6.4 ('.venv': venv)",
   "language": "python",
   "name": "python3"
  },
  "language_info": {
   "codemirror_mode": {
    "name": "ipython",
    "version": 3
   },
   "file_extension": ".py",
   "mimetype": "text/x-python",
   "name": "python",
   "nbconvert_exporter": "python",
   "pygments_lexer": "ipython3",
   "version": "3.6.4"
  },
  "orig_nbformat": 4
 },
 "nbformat": 4,
 "nbformat_minor": 2
}
